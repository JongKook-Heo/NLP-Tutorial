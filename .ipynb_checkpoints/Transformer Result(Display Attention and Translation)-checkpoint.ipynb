{
 "cells": [
  {
   "cell_type": "code",
   "execution_count": 1,
   "metadata": {},
   "outputs": [],
   "source": [
    "import torch\n",
    "import torch.nn as nn\n",
    "import torch.optim as optim\n",
    "from utils import initialize_weights, epoch_time\n",
    "from train_eval import train, evaluate\n",
    "from torchtext.datasets import Multi30k\n",
    "from torchtext.data import Field, BucketIterator\n",
    "from tensorboardX import SummaryWriter\n",
    "import os\n",
    "\n",
    "import Transformer\n",
    "import matplotlib.pyplot as plt\n",
    "import matplotlib.ticker as ticker\n",
    "\n",
    "import spacy\n",
    "import numpy as np\n",
    "\n",
    "import random\n",
    "import math\n",
    "import time\n",
    "\n",
    "seed = 777\n",
    "random.seed(seed)\n",
    "np.random.seed(seed)\n",
    "torch.manual_seed(seed)\n",
    "torch.cuda.manual_seed(seed)\n",
    "torch.backends.cudnn.deterministic = True\n",
    "\n",
    "spacy_de = spacy.load('de_core_news_sm')\n",
    "spacy_en = spacy.load('en_core_web_sm')\n",
    "\n",
    "def tokenize_de(text):\n",
    "    return [tok.text for tok in spacy_de.tokenizer(text)]\n",
    "\n",
    "def tokenize_en(text):\n",
    "    return [tok.text for tok in spacy_en.tokenizer(text)]\n",
    "\n",
    "de_field = Field(tokenize = tokenize_de, init_token = '<sos>', eos_token = '<eos>', lower = True, batch_first = True)\n",
    "en_field = Field(tokenize = tokenize_en, init_token = '<sos>', eos_token = '<eos>', lower = True, batch_first = True)\n",
    "\n",
    "data_train, data_val, data_test = Multi30k.splits(\n",
    "    exts = ('.de', '.en'), fields = (de_field, en_field))\n",
    "\n",
    "de_field.build_vocab(data_train, min_freq = 2)\n",
    "en_field.build_vocab(data_train, min_freq = 2)\n",
    "\n",
    "device = torch.device('cuda')\n",
    "batch_size = 64\n",
    "\n",
    "train_loader, val_loader, test_loader = BucketIterator.splits(\n",
    "    (data_train, data_val, data_test),batch_size = batch_size, device = device)\n",
    "\n",
    "src_vocab_size = len(de_field.vocab)\n",
    "trg_vocab_size = len(en_field.vocab)\n",
    "\n",
    "src_pad_idx = de_field.vocab.stoi[de_field.pad_token]\n",
    "trg_pad_idx = en_field.vocab.stoi[en_field.pad_token]"
   ]
  },
  {
   "cell_type": "code",
   "execution_count": 2,
   "metadata": {},
   "outputs": [
    {
     "name": "stdout",
     "output_type": "stream",
     "text": [
      "7854\n",
      "5893\n"
     ]
    }
   ],
   "source": [
    "print(src_vocab_size)\n",
    "print(trg_vocab_size)"
   ]
  },
  {
   "cell_type": "code",
   "execution_count": 3,
   "metadata": {},
   "outputs": [
    {
     "name": "stdout",
     "output_type": "stream",
     "text": [
      "tensor([   2,    5,  116, 2415,  264,   22,   14,   16, 2557,    9,   17,    8,\n",
      "         555, 2418,   61,    4,    3,    1,    1,    1,    1,    1,    1,    1,\n",
      "           1,    1,    1,    1,    1,    1,    1], device='cuda:0')\n",
      "tensor([   2,    4, 1131,   12,  515,   17, 5879,   49,    4,   14,   22,   86,\n",
      "        1955,    5,    3,    1,    1,    1,    1,    1,    1,    1,    1,    1,\n",
      "           1,    1,    1,    1], device='cuda:0')\n",
      "['<sos>', 'ein', 'paar', 'stiefel', 'werden', 'von', 'einer', 'frau', 'getragen', ',', 'die', 'eine', 'orange', 'strumpfhose', 'trägt', '.', '<eos>', '<pad>', '<pad>', '<pad>', '<pad>', '<pad>', '<pad>', '<pad>', '<pad>', '<pad>', '<pad>', '<pad>', '<pad>', '<pad>', '<pad>']\n",
      "['<sos>', 'a', 'pair', 'of', 'boots', 'are', 'worn', 'by', 'a', 'woman', 'wearing', 'orange', 'tights', '.', '<eos>', '<pad>', '<pad>', '<pad>', '<pad>', '<pad>', '<pad>', '<pad>', '<pad>', '<pad>', '<pad>', '<pad>', '<pad>', '<pad>']\n"
     ]
    }
   ],
   "source": [
    "batch = next(iter(train_loader))\n",
    "src, trg = batch.src, batch.trg\n",
    "print(src[2])\n",
    "print(trg[2])\n",
    "src_sen = [de_field.vocab.itos[i] for i in src[2]]\n",
    "trg_sen = [en_field.vocab.itos[i] for i in trg[2]]\n",
    "print(src_sen)\n",
    "print(trg_sen)"
   ]
  },
  {
   "cell_type": "code",
   "execution_count": 4,
   "metadata": {},
   "outputs": [
    {
     "data": {
      "text/plain": [
       "Transformer(\n",
       "  (encoder): Encoder(\n",
       "    (input_Embedding): Embedding(7854, 256)\n",
       "    (positional_Embedding): Embedding(100, 256)\n",
       "    (layers): ModuleList(\n",
       "      (0): TransformerBlock(\n",
       "        (attention): SelfAttention(\n",
       "          (V): Linear(in_features=256, out_features=256, bias=False)\n",
       "          (K): Linear(in_features=256, out_features=256, bias=False)\n",
       "          (Q): Linear(in_features=256, out_features=256, bias=False)\n",
       "          (fc_out): Linear(in_features=256, out_features=256, bias=True)\n",
       "        )\n",
       "        (norm1): LayerNorm((256,), eps=1e-05, elementwise_affine=True)\n",
       "        (norm2): LayerNorm((256,), eps=1e-05, elementwise_affine=True)\n",
       "        (feed_forward): Sequential(\n",
       "          (0): Linear(in_features=256, out_features=512, bias=True)\n",
       "          (1): ReLU()\n",
       "          (2): Linear(in_features=512, out_features=256, bias=True)\n",
       "        )\n",
       "        (dropout): Dropout(p=0, inplace=False)\n",
       "      )\n",
       "      (1): TransformerBlock(\n",
       "        (attention): SelfAttention(\n",
       "          (V): Linear(in_features=256, out_features=256, bias=False)\n",
       "          (K): Linear(in_features=256, out_features=256, bias=False)\n",
       "          (Q): Linear(in_features=256, out_features=256, bias=False)\n",
       "          (fc_out): Linear(in_features=256, out_features=256, bias=True)\n",
       "        )\n",
       "        (norm1): LayerNorm((256,), eps=1e-05, elementwise_affine=True)\n",
       "        (norm2): LayerNorm((256,), eps=1e-05, elementwise_affine=True)\n",
       "        (feed_forward): Sequential(\n",
       "          (0): Linear(in_features=256, out_features=512, bias=True)\n",
       "          (1): ReLU()\n",
       "          (2): Linear(in_features=512, out_features=256, bias=True)\n",
       "        )\n",
       "        (dropout): Dropout(p=0, inplace=False)\n",
       "      )\n",
       "      (2): TransformerBlock(\n",
       "        (attention): SelfAttention(\n",
       "          (V): Linear(in_features=256, out_features=256, bias=False)\n",
       "          (K): Linear(in_features=256, out_features=256, bias=False)\n",
       "          (Q): Linear(in_features=256, out_features=256, bias=False)\n",
       "          (fc_out): Linear(in_features=256, out_features=256, bias=True)\n",
       "        )\n",
       "        (norm1): LayerNorm((256,), eps=1e-05, elementwise_affine=True)\n",
       "        (norm2): LayerNorm((256,), eps=1e-05, elementwise_affine=True)\n",
       "        (feed_forward): Sequential(\n",
       "          (0): Linear(in_features=256, out_features=512, bias=True)\n",
       "          (1): ReLU()\n",
       "          (2): Linear(in_features=512, out_features=256, bias=True)\n",
       "        )\n",
       "        (dropout): Dropout(p=0, inplace=False)\n",
       "      )\n",
       "    )\n",
       "    (dropout): Dropout(p=0, inplace=False)\n",
       "  )\n",
       "  (decoder): Decoder(\n",
       "    (output_Embedding): Embedding(5893, 256)\n",
       "    (positional_Embedding): Embedding(100, 256)\n",
       "    (layers): ModuleList(\n",
       "      (0): DecoderBlock(\n",
       "        (attention): SelfAttention(\n",
       "          (V): Linear(in_features=256, out_features=256, bias=False)\n",
       "          (K): Linear(in_features=256, out_features=256, bias=False)\n",
       "          (Q): Linear(in_features=256, out_features=256, bias=False)\n",
       "          (fc_out): Linear(in_features=256, out_features=256, bias=True)\n",
       "        )\n",
       "        (norm): LayerNorm((256,), eps=1e-05, elementwise_affine=True)\n",
       "        (transformer_block): TransformerBlock(\n",
       "          (attention): SelfAttention(\n",
       "            (V): Linear(in_features=256, out_features=256, bias=False)\n",
       "            (K): Linear(in_features=256, out_features=256, bias=False)\n",
       "            (Q): Linear(in_features=256, out_features=256, bias=False)\n",
       "            (fc_out): Linear(in_features=256, out_features=256, bias=True)\n",
       "          )\n",
       "          (norm1): LayerNorm((256,), eps=1e-05, elementwise_affine=True)\n",
       "          (norm2): LayerNorm((256,), eps=1e-05, elementwise_affine=True)\n",
       "          (feed_forward): Sequential(\n",
       "            (0): Linear(in_features=256, out_features=512, bias=True)\n",
       "            (1): ReLU()\n",
       "            (2): Linear(in_features=512, out_features=256, bias=True)\n",
       "          )\n",
       "          (dropout): Dropout(p=0, inplace=False)\n",
       "        )\n",
       "        (dropout): Dropout(p=0, inplace=False)\n",
       "      )\n",
       "      (1): DecoderBlock(\n",
       "        (attention): SelfAttention(\n",
       "          (V): Linear(in_features=256, out_features=256, bias=False)\n",
       "          (K): Linear(in_features=256, out_features=256, bias=False)\n",
       "          (Q): Linear(in_features=256, out_features=256, bias=False)\n",
       "          (fc_out): Linear(in_features=256, out_features=256, bias=True)\n",
       "        )\n",
       "        (norm): LayerNorm((256,), eps=1e-05, elementwise_affine=True)\n",
       "        (transformer_block): TransformerBlock(\n",
       "          (attention): SelfAttention(\n",
       "            (V): Linear(in_features=256, out_features=256, bias=False)\n",
       "            (K): Linear(in_features=256, out_features=256, bias=False)\n",
       "            (Q): Linear(in_features=256, out_features=256, bias=False)\n",
       "            (fc_out): Linear(in_features=256, out_features=256, bias=True)\n",
       "          )\n",
       "          (norm1): LayerNorm((256,), eps=1e-05, elementwise_affine=True)\n",
       "          (norm2): LayerNorm((256,), eps=1e-05, elementwise_affine=True)\n",
       "          (feed_forward): Sequential(\n",
       "            (0): Linear(in_features=256, out_features=512, bias=True)\n",
       "            (1): ReLU()\n",
       "            (2): Linear(in_features=512, out_features=256, bias=True)\n",
       "          )\n",
       "          (dropout): Dropout(p=0, inplace=False)\n",
       "        )\n",
       "        (dropout): Dropout(p=0, inplace=False)\n",
       "      )\n",
       "      (2): DecoderBlock(\n",
       "        (attention): SelfAttention(\n",
       "          (V): Linear(in_features=256, out_features=256, bias=False)\n",
       "          (K): Linear(in_features=256, out_features=256, bias=False)\n",
       "          (Q): Linear(in_features=256, out_features=256, bias=False)\n",
       "          (fc_out): Linear(in_features=256, out_features=256, bias=True)\n",
       "        )\n",
       "        (norm): LayerNorm((256,), eps=1e-05, elementwise_affine=True)\n",
       "        (transformer_block): TransformerBlock(\n",
       "          (attention): SelfAttention(\n",
       "            (V): Linear(in_features=256, out_features=256, bias=False)\n",
       "            (K): Linear(in_features=256, out_features=256, bias=False)\n",
       "            (Q): Linear(in_features=256, out_features=256, bias=False)\n",
       "            (fc_out): Linear(in_features=256, out_features=256, bias=True)\n",
       "          )\n",
       "          (norm1): LayerNorm((256,), eps=1e-05, elementwise_affine=True)\n",
       "          (norm2): LayerNorm((256,), eps=1e-05, elementwise_affine=True)\n",
       "          (feed_forward): Sequential(\n",
       "            (0): Linear(in_features=256, out_features=512, bias=True)\n",
       "            (1): ReLU()\n",
       "            (2): Linear(in_features=512, out_features=256, bias=True)\n",
       "          )\n",
       "          (dropout): Dropout(p=0, inplace=False)\n",
       "        )\n",
       "        (dropout): Dropout(p=0, inplace=False)\n",
       "      )\n",
       "    )\n",
       "    (fc_out): Linear(in_features=256, out_features=5893, bias=True)\n",
       "    (dropout): Dropout(p=0, inplace=False)\n",
       "  )\n",
       ")"
      ]
     },
     "execution_count": 4,
     "metadata": {},
     "output_type": "execute_result"
    }
   ],
   "source": [
    "dropout = 0\n",
    "Seq2Seq_transformer = Transformer.Transformer(src_vocab_size, trg_vocab_size, src_pad_idx, trg_pad_idx, dropout = dropout, n_layers = 3, forward_expansion = 2, device = device).to(device)\n",
    "Seq2Seq_transformer.load_state_dict(torch.load('./ckpt/Transformer.pt'))\n",
    "Seq2Seq_transformer.eval()"
   ]
  },
  {
   "cell_type": "code",
   "execution_count": 5,
   "metadata": {},
   "outputs": [],
   "source": [
    "def translate(sentence, src_field, trg_field, model, device, max_len = 50):\n",
    "    model.eval()\n",
    "    if isinstance(sentence, str):\n",
    "        tokens = [tok.text for tok in spacy_de(sentence)]\n",
    "    else:\n",
    "        tokens = [tok.lower() for tok in sentence]\n",
    "    \n",
    "    tokens = [src_field.init_token] + tokens + [src_field.eos_token]\n",
    "    src_indexes = [src_field.vocab.stoi[token] for token in tokens]\n",
    "    src_tensor = torch.LongTensor(src_indexes).unsqueeze(0).to(device)\n",
    "    src_mask = model.make_src_mask(src_tensor)\n",
    "    \n",
    "    with torch.no_grad():\n",
    "        enc_src = model.encoder(src_tensor, src_mask)\n",
    "    trg_indexes = [trg_field.vocab.stoi[trg_field.init_token]] #[2] - > sos token....\n",
    "    \n",
    "    for i in range(max_len):\n",
    "        trg_tensor = torch.LongTensor(trg_indexes).unsqueeze(0).to(device) #first : (batch_size, len(trg_idxes))\n",
    "        trg_mask = model.make_trg_mask(trg_tensor) #trg mask : (batch_size, 1, trg_idxes, trg_idxes)\n",
    "        with torch.no_grad():\n",
    "            output, attention = model.decoder(trg_tensor, enc_src, src_mask, trg_mask) #output : (batch_size, len(trg_index), trg_vocab_size)\n",
    "        \n",
    "        pred_token = output.argmax(2)[:,-1].item()#last value\n",
    "        trg_indexes.append(pred_token)\n",
    "        \n",
    "        if pred_token == trg_field.vocab.stoi[trg_field.eos_token]:\n",
    "            break\n",
    "    trg_tokens = [trg_field.vocab.itos[i] for i in trg_indexes]\n",
    "    \n",
    "    return trg_tokens[1:], attention"
   ]
  },
  {
   "cell_type": "code",
   "execution_count": 31,
   "metadata": {},
   "outputs": [],
   "source": [
    "import matplotlib.pyplot as plt\n",
    "\n",
    "def display_attention(sentence, translation, attention, n_heads = 8, n_rows = 2, n_cols = 4):\n",
    "    assert n_rows * n_cols == n_heads\n",
    "    fig = plt.figure(figsize = (15, 25))\n",
    "    \n",
    "    for i in range(n_heads):\n",
    "        ax = fig.add_subplot(n_rows, n_cols, i + 1)\n",
    "        attention_np = attention.squeeze(0)[i].cpu().numpy()\n",
    "        ax.matshow(attention_np, cmap = 'bone')\n",
    "        \n",
    "        ax.set_xticklabels([''] + ['<sos>'] + [t.lower() for t in sentence] +['<eos>'], rotation = 45)\n",
    "        ax.set_yticklabels([''] + translation)\n",
    "        \n",
    "        ax.xaxis.set_major_locator(ticker.MultipleLocator(1))\n",
    "        ax.yaxis.set_major_locator(ticker.MultipleLocator(1))\n",
    "        \n",
    "    plt.show()\n",
    "    plt.close()"
   ]
  },
  {
   "cell_type": "code",
   "execution_count": 35,
   "metadata": {},
   "outputs": [
    {
     "name": "stdout",
     "output_type": "stream",
     "text": [
      "['eine', 'frau', 'mit', 'einer', 'großen', 'geldbörse', 'geht', 'an', 'einem', 'tor', 'vorbei', '.']\n",
      "['a', 'woman', 'with', 'a', 'large', 'purse', 'is', 'walking', 'by', 'a', 'gate', '.']\n"
     ]
    }
   ],
   "source": [
    "src_sample = vars(data_train.examples[8])['src']\n",
    "trg_sample = vars(data_train.examples[8])['trg']\n",
    "print(src_sample)\n",
    "print(trg_sample)"
   ]
  },
  {
   "cell_type": "code",
   "execution_count": 36,
   "metadata": {},
   "outputs": [
    {
     "name": "stdout",
     "output_type": "stream",
     "text": [
      "['a', 'woman', 'in', 'a', 'red', 'outfit', 'is', 'walking', 'down', 'the', 'street', '.', '<eos>']\n"
     ]
    }
   ],
   "source": [
    "translation, attention = translate(src_sample, de_field, en_field, Seq2Seq_transformer, 'cuda')\n",
    "print(translation)"
   ]
  },
  {
   "cell_type": "code",
   "execution_count": 37,
   "metadata": {},
   "outputs": [
    {
     "data": {
      "image/png": "[encoded data removed]",
      "text/plain": [
       "<Figure size 1080x1800 with 8 Axes>"
      ]
     },
     "metadata": {
      "needs_background": "light"
     },
     "output_type": "display_data"
    }
   ],
   "source": [
    "display_attention(src_sample, translation, attention)"
   ]
  },
  {
   "cell_type": "code",
   "execution_count": null,
   "metadata": {},
   "outputs": [],
   "source": []
  }
 ],
 "metadata": {
  "kernelspec": {
   "display_name": "NLPtutorial",
   "language": "python",
   "name": "nlptutorial"
  },
  "language_info": {
   "codemirror_mode": {
    "name": "ipython",
    "version": 3
   },
   "file_extension": ".py",
   "mimetype": "text/x-python",
   "name": "python",
   "nbconvert_exporter": "python",
   "pygments_lexer": "ipython3",
   "version": "3.6.10"
  }
 },
 "nbformat": 4,
 "nbformat_minor": 4
}
