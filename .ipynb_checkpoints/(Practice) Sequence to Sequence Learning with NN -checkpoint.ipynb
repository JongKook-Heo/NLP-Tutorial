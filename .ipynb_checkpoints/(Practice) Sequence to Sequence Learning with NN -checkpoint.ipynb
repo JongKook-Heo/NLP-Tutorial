{
 "cells": [
  {
   "cell_type": "code",
   "execution_count": 3,
   "metadata": {},
   "outputs": [],
   "source": [
    "import spacy\n",
    "\n",
    "spact_en = spacy.load('en_core_web_sm')"
   ]
  },
  {
   "cell_type": "code",
   "execution_count": 5,
   "metadata": {},
   "outputs": [],
   "source": [
    "spacy_en = spacy.load('de_core_news_sm')"
   ]
  },
  {
   "cell_type": "code",
   "execution_count": null,
   "metadata": {},
   "outputs": [],
   "source": [
    "def tokenize_de_reverse(text):\n",
    "    spacy_de = spacy.load('de_core_web_sm')\n",
    "\n",
    "    return [tok.text for tok in spacy_de.tokenizer(text)][::-1]"
   ]
  }
 ],
 "metadata": {
  "kernelspec": {
   "display_name": "NLPtutorial",
   "language": "python",
   "name": "nlptutorial"
  },
  "language_info": {
   "codemirror_mode": {
    "name": "ipython",
    "version": 3
   },
   "file_extension": ".py",
   "mimetype": "text/x-python",
   "name": "python",
   "nbconvert_exporter": "python",
   "pygments_lexer": "ipython3",
   "version": "3.6.10"
  }
 },
 "nbformat": 4,
 "nbformat_minor": 4
}
